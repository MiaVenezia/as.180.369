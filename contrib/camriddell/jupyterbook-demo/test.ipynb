{
 "cells": [
  {
   "cell_type": "markdown",
   "id": "8adcc193-6a29-4667-8542-6ddce9863264",
   "metadata": {},
   "source": [
    "---\n",
    "title: my analysis of....\n",
    "date: 2023-10-20\n",
    "authors:\n",
    "- name: Cameron\n",
    "  roles: \n",
    "    - Conceptualization\n",
    "    - Visualization\n",
    "---"
   ]
  },
  {
   "cell_type": "code",
   "execution_count": 1,
   "id": "7a8fe625-992a-44ff-aee1-c37c5472a2c6",
   "metadata": {},
   "outputs": [],
   "source": [
    "x = 1\n",
    "y = 2\n",
    "z = x + y"
   ]
  },
  {
   "cell_type": "markdown",
   "id": "1b21e319-8315-46bd-8a54-2cc795378ea9",
   "metadata": {},
   "source": [
    "test eval below:\n",
    "\n",
    "```\n",
    "x + y → {eval}`z`\n",
    "```\n",
    "\n",
    "x + y → {eval}`z`\n",
    "\n",
    "end eval test. If no output above, test failed"
   ]
  },
  {
   "cell_type": "code",
   "execution_count": 3,
   "id": "8e42471f-5929-4e2f-b3ad-0c0481b62742",
   "metadata": {},
   "outputs": [],
   "source": [
    "some_statistical_test = ...\n",
    "pvalue = 0.05"
   ]
  },
  {
   "cell_type": "markdown",
   "id": "975f4da1-1d68-4556-8dcb-5f3101e1b5e5",
   "metadata": {
    "user_expressions": [
     {
      "expression": "pvalue",
      "result": {
       "data": {
        "text/plain": "0.05"
       },
       "metadata": {},
       "status": "ok"
      }
     }
    ]
   },
   "source": [
    "The test resulted in pvalue of {eval}`pvalue`. This means that the test was...\n"
   ]
  },
  {
   "cell_type": "markdown",
   "id": "87522639-aa31-47a5-887e-5430de89343c",
   "metadata": {
    "editable": true,
    "slideshow": {
     "slide_type": ""
    },
    "tags": []
   },
   "source": [
    "In text Citation: \n",
    "\n",
    "```\n",
    "{cite:t}`perez2011python`\n",
    "```\n",
    "\n",
    "- {cite:t}`perez2011python`\n",
    "- {cite:t}`caporaso2010qiime`\n",
    "\n",
    "Based on my research of (cite) `perez2011python` , I concluded that...\n",
    "\n",
    "Parenthetical Citation:\n",
    " \n",
    "```\n",
    "{cite:p}`perez2011python`\n",
    "```\n",
    "\n",
    "\n",
    "- {cite:p}`perez2011python`\n",
    "- {cite:p}`caporaso2010qiime`\n",
    "\n",
    "end citation test, if no output above, test failed"
   ]
  },
  {
   "cell_type": "markdown",
   "id": "7dd2efba-1006-47bc-b2ea-8b1db0c36fb3",
   "metadata": {},
   "source": [
    "```{bibliography}\n",
    "\n",
    "```"
   ]
  }
 ],
 "metadata": {
  "file_format": "mystnb",
  "kernelspec": {
   "display_name": "Python 3 (ipykernel)",
   "language": "python",
   "name": "python3"
  },
  "language_info": {
   "codemirror_mode": {
    "name": "ipython",
    "version": 3
   },
   "file_extension": ".py",
   "mimetype": "text/x-python",
   "name": "python",
   "nbconvert_exporter": "python",
   "pygments_lexer": "ipython3",
   "version": "3.10.10"
  },
  "mystnb": {
   "execution_mode": "inline"
  }
 },
 "nbformat": 4,
 "nbformat_minor": 5
}
