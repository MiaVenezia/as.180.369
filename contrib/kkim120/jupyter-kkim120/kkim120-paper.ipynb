{
 "cells": [
  {
   "cell_type": "markdown",
   "id": "a8de0396-45d4-4256-901d-e2b1c1d98e42",
   "metadata": {},
   "source": [
    "## Kun Woo Kim\n",
    "## Abstract\n",
    "\n",
    "This literature review comprehensively examines the intricate relationship between inflation and stock prices within the context of the United States. Inflation, characterized by a sustained increase in the general price level of goods and services, holds significant implications for financial markets and investment behavior. The study synthesizes a diverse range of research, theories, and empirical evidence to delineate the impact of inflation on stock market dynamics in the U.S. \r\n",
    "The review begins by elucidating theoretical frameworks fundamental to understanding the inflation-stock price relationship, including the Fisher Effect, the expectations hypothesis, and the wealth effect. Subsequently, it delves into empirical studies, analyzing historical trends and patterns to elucidate how different forms of inflation (e.g., anticipated vs. unanticipated) and economic cycles distinctly influence stock market performance within the U.S. contex \r\n",
    "\r\n",
    "Moreover, this review explores the role of central bank policies and monetary factors in mediating the connection between inflation and stock prices in the U.S. Monetary policy, interest rates, and their ramifications on stock market valuations are scrutinized, providing insights into the complex interplay between macroeconomic variables and financial mark s.\r\n",
    "\r\n",
    "By consolidating and synthesizing diverse perspectives from existing literature, this review offers a comprehensive understanding of the nuanced relationship between inflation and stock prices in the U.S. context. It presents valuable insights for investors, policymakers, and researchers seeking to navigate the complexities of this economic phenomenon. Furthermore, it identifies research gaps and proposes potential avenues for future investigations, aiming to advance the knowledge in this critical field of study."
   ]
  },
  {
   "cell_type": "markdown",
   "id": "1c1b5f29-b971-447b-b1d5-176dadda0ce1",
   "metadata": {},
   "source": [
    "## Introduction\n",
    "\n",
    "Inflation, an enduring economic phenomenon characterized by a sustained increase in the general price level of goods and services, has long been recognized as a significant variable in the financial landscape. Its influence extends across various sectors of the economy, profoundly affecting investment decisions, consumer behavior, and overall market dynamics. Among the spheres impacted by inflation, the relationship between inflation and stock prices stands as a focal point of interest and scrutiny within the field of financial economics. \r\n",
    "This literature review endeavors to delve into the multifaceted interplay between inflation and stock prices, particularly focusing on the United States. The stock market, being a crucial component of the financial system, is highly sensitive to changes in economic conditions. Investors and policymakers keenly observe how inflationary trends may shape stock market behavior, impacting investment strategies, corporate valuations, and economic growth trajectorie \r\n",
    "\r\n",
    "Understanding the dynamics of how inflation affects stock prices is paramount for investors seeking to optimize portfolio performance, economists aiming to model market behavior accurately, and policymakers formulating strategies to foster economic stability and growth. In this review, we seek to navigate the intricate relationship between inflation and stock prices within the U.S. context, synthesizing existing research, theories, and empirical findings to construct a comprehensive understanding of this crucial economic interaction. By examining the historical context, theoretical foundations, empirical studies, and policy implications, we endeavor to elucidate the intricacies of this relationship and shed light on potential avenues for further research and exploioon."
   ]
  },
  {
   "cell_type": "markdown",
   "id": "82b9033a-26e1-4780-8a25-119acbc7c9c6",
   "metadata": {},
   "source": [
    "## Literature Review"
   ]
  },
  {
   "cell_type": "markdown",
   "id": "d02adefd-39a0-468c-871c-b716427ce766",
   "metadata": {},
   "source": [
    "## Methodology\n"
   ]
  },
  {
   "cell_type": "markdown",
   "id": "36e4e7b9-0d47-4788-a2f9-b9f7137456f5",
   "metadata": {},
   "source": [
    "{cite:t}`perez2011python`\n"
   ]
  },
  {
   "cell_type": "code",
   "execution_count": null,
   "id": "f6336796-1f91-4657-b5ba-91a5a25f2ef0",
   "metadata": {},
   "outputs": [],
   "source": []
  }
 ],
 "metadata": {
  "kernelspec": {
   "display_name": "Python 3 (ipykernel)",
   "language": "python",
   "name": "python3"
  },
  "language_info": {
   "codemirror_mode": {
    "name": "ipython",
    "version": 3
   },
   "file_extension": ".py",
   "mimetype": "text/x-python",
   "name": "python",
   "nbconvert_exporter": "python",
   "pygments_lexer": "ipython3",
   "version": "3.10.10"
  }
 },
 "nbformat": 4,
 "nbformat_minor": 5
}
